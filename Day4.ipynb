{
 "cells": [
  {
   "cell_type": "code",
   "execution_count": 4,
   "id": "0d030118",
   "metadata": {},
   "outputs": [],
   "source": [
    "import numpy"
   ]
  },
  {
   "cell_type": "code",
   "execution_count": 5,
   "id": "3cd994c1",
   "metadata": {},
   "outputs": [
    {
     "data": {
      "text/plain": [
       "'1.20.1'"
      ]
     },
     "execution_count": 5,
     "metadata": {},
     "output_type": "execute_result"
    }
   ],
   "source": [
    "numpy.__version__"
   ]
  },
  {
   "cell_type": "code",
   "execution_count": 1,
   "id": "2e486478",
   "metadata": {},
   "outputs": [],
   "source": [
    "import numpy as np"
   ]
  },
  {
   "cell_type": "code",
   "execution_count": 7,
   "id": "8be26484",
   "metadata": {},
   "outputs": [],
   "source": [
    "a=np.array([[1,2,3,4],[0,0,0,0],[1,1,1,1]])"
   ]
  },
  {
   "cell_type": "code",
   "execution_count": 8,
   "id": "3dce470c",
   "metadata": {},
   "outputs": [
    {
     "data": {
      "text/plain": [
       "array([[1, 2, 3, 4],\n",
       "       [0, 0, 0, 0],\n",
       "       [1, 1, 1, 1]])"
      ]
     },
     "execution_count": 8,
     "metadata": {},
     "output_type": "execute_result"
    }
   ],
   "source": [
    "a"
   ]
  },
  {
   "cell_type": "code",
   "execution_count": 9,
   "id": "433e8dba",
   "metadata": {},
   "outputs": [
    {
     "data": {
      "text/plain": [
       "array([0., 0., 0., 0., 0., 0.])"
      ]
     },
     "execution_count": 9,
     "metadata": {},
     "output_type": "execute_result"
    }
   ],
   "source": [
    "np.zeros(6)"
   ]
  },
  {
   "cell_type": "code",
   "execution_count": 10,
   "id": "f806b658",
   "metadata": {},
   "outputs": [
    {
     "data": {
      "text/plain": [
       "array([1., 1., 1., 1., 1., 1.])"
      ]
     },
     "execution_count": 10,
     "metadata": {},
     "output_type": "execute_result"
    }
   ],
   "source": [
    "np.ones(6)"
   ]
  },
  {
   "cell_type": "code",
   "execution_count": 11,
   "id": "c626a461",
   "metadata": {},
   "outputs": [
    {
     "data": {
      "text/plain": [
       "array([1., 1., 1., 1., 1., 1.])"
      ]
     },
     "execution_count": 11,
     "metadata": {},
     "output_type": "execute_result"
    }
   ],
   "source": [
    "np.empty(6)"
   ]
  },
  {
   "cell_type": "code",
   "execution_count": 12,
   "id": "07c2aad1",
   "metadata": {},
   "outputs": [
    {
     "data": {
      "text/plain": [
       "array([0, 1, 2, 3, 4])"
      ]
     },
     "execution_count": 12,
     "metadata": {},
     "output_type": "execute_result"
    }
   ],
   "source": [
    "np.arange(5)"
   ]
  },
  {
   "cell_type": "code",
   "execution_count": 13,
   "id": "736a883d",
   "metadata": {},
   "outputs": [
    {
     "data": {
      "text/plain": [
       "array([ 1,  3,  5,  7,  9, 11, 13, 15, 17, 19])"
      ]
     },
     "execution_count": 13,
     "metadata": {},
     "output_type": "execute_result"
    }
   ],
   "source": [
    "np.arange(1,20,2)"
   ]
  },
  {
   "cell_type": "markdown",
   "id": "a71b10c9",
   "metadata": {},
   "source": [
    "## add, remove, and sort"
   ]
  },
  {
   "cell_type": "code",
   "execution_count": 14,
   "id": "e7d3be00",
   "metadata": {},
   "outputs": [],
   "source": [
    "arr=np.array([1,2,3,4,5])"
   ]
  },
  {
   "cell_type": "code",
   "execution_count": 15,
   "id": "fefdeab8",
   "metadata": {},
   "outputs": [],
   "source": [
    "arr=np.append(arr,[6,7])"
   ]
  },
  {
   "cell_type": "code",
   "execution_count": 16,
   "id": "8a5398a0",
   "metadata": {},
   "outputs": [
    {
     "data": {
      "text/plain": [
       "array([1, 2, 3, 4, 5, 6, 7])"
      ]
     },
     "execution_count": 16,
     "metadata": {},
     "output_type": "execute_result"
    }
   ],
   "source": [
    "arr"
   ]
  },
  {
   "cell_type": "code",
   "execution_count": null,
   "id": "53eac8f6",
   "metadata": {},
   "outputs": [],
   "source": []
  },
  {
   "cell_type": "code",
   "execution_count": 17,
   "id": "b37a3e84",
   "metadata": {},
   "outputs": [],
   "source": [
    "arr=np.delete(arr,1)"
   ]
  },
  {
   "cell_type": "code",
   "execution_count": 18,
   "id": "80cf92f0",
   "metadata": {},
   "outputs": [
    {
     "data": {
      "text/plain": [
       "array([1, 3, 4, 5, 6, 7])"
      ]
     },
     "execution_count": 18,
     "metadata": {},
     "output_type": "execute_result"
    }
   ],
   "source": [
    "arr"
   ]
  },
  {
   "cell_type": "code",
   "execution_count": 19,
   "id": "85b1c016",
   "metadata": {},
   "outputs": [
    {
     "data": {
      "text/plain": [
       "array([1, 3, 4, 5, 6, 7])"
      ]
     },
     "execution_count": 19,
     "metadata": {},
     "output_type": "execute_result"
    }
   ],
   "source": [
    "np.sort(arr)"
   ]
  },
  {
   "cell_type": "markdown",
   "id": "49e57904",
   "metadata": {},
   "source": [
    "## Shape and size"
   ]
  },
  {
   "cell_type": "code",
   "execution_count": 20,
   "id": "84179b8c",
   "metadata": {},
   "outputs": [],
   "source": [
    "array1=np.array([[[0,1,2,3],\n",
    "                 [4,5,6,7]],\n",
    "                [[0,1,2,3],\n",
    "                 [4,5,6,7]],\n",
    "                [[0,1,2,3],\n",
    "                 [4,5,6,7]],])"
   ]
  },
  {
   "cell_type": "code",
   "execution_count": 21,
   "id": "eb637f95",
   "metadata": {},
   "outputs": [
    {
     "data": {
      "text/plain": [
       "array([[[0, 1, 2, 3],\n",
       "        [4, 5, 6, 7]],\n",
       "\n",
       "       [[0, 1, 2, 3],\n",
       "        [4, 5, 6, 7]],\n",
       "\n",
       "       [[0, 1, 2, 3],\n",
       "        [4, 5, 6, 7]]])"
      ]
     },
     "execution_count": 21,
     "metadata": {},
     "output_type": "execute_result"
    }
   ],
   "source": [
    "array1"
   ]
  },
  {
   "cell_type": "code",
   "execution_count": 22,
   "id": "e0a0a7ae",
   "metadata": {},
   "outputs": [
    {
     "data": {
      "text/plain": [
       "(3, 2, 4)"
      ]
     },
     "execution_count": 22,
     "metadata": {},
     "output_type": "execute_result"
    }
   ],
   "source": [
    "array1.ndim\n",
    "array1.size\n",
    "array1.shape"
   ]
  },
  {
   "cell_type": "code",
   "execution_count": 23,
   "id": "fb6b1c00",
   "metadata": {},
   "outputs": [
    {
     "data": {
      "text/plain": [
       "3"
      ]
     },
     "execution_count": 23,
     "metadata": {},
     "output_type": "execute_result"
    }
   ],
   "source": [
    "array1.ndim"
   ]
  },
  {
   "cell_type": "code",
   "execution_count": 24,
   "id": "e58bd95a",
   "metadata": {},
   "outputs": [
    {
     "data": {
      "text/plain": [
       "24"
      ]
     },
     "execution_count": 24,
     "metadata": {},
     "output_type": "execute_result"
    }
   ],
   "source": [
    "array1.size"
   ]
  },
  {
   "cell_type": "markdown",
   "id": "2d6f66ed",
   "metadata": {},
   "source": [
    "## Reshape"
   ]
  },
  {
   "cell_type": "code",
   "execution_count": 25,
   "id": "a88dbc60",
   "metadata": {},
   "outputs": [],
   "source": [
    "array2=np.arange(6)"
   ]
  },
  {
   "cell_type": "code",
   "execution_count": 26,
   "id": "59691fa8",
   "metadata": {},
   "outputs": [
    {
     "data": {
      "text/plain": [
       "array([[0, 1],\n",
       "       [2, 3],\n",
       "       [4, 5]])"
      ]
     },
     "execution_count": 26,
     "metadata": {},
     "output_type": "execute_result"
    }
   ],
   "source": [
    "array2.reshape(3,2)"
   ]
  },
  {
   "cell_type": "code",
   "execution_count": 27,
   "id": "79269587",
   "metadata": {},
   "outputs": [
    {
     "data": {
      "text/plain": [
       "array([[0],\n",
       "       [1],\n",
       "       [2],\n",
       "       [3],\n",
       "       [4],\n",
       "       [5]])"
      ]
     },
     "execution_count": 27,
     "metadata": {},
     "output_type": "execute_result"
    }
   ],
   "source": [
    "array2.reshape(6,1)"
   ]
  },
  {
   "cell_type": "markdown",
   "id": "a71fe923",
   "metadata": {},
   "source": [
    "## Convert 1D to 2D"
   ]
  },
  {
   "cell_type": "code",
   "execution_count": 28,
   "id": "558a5734",
   "metadata": {},
   "outputs": [],
   "source": [
    "a=np.array([1,2,3,4,5,6])"
   ]
  },
  {
   "cell_type": "code",
   "execution_count": 29,
   "id": "8c3f0af7",
   "metadata": {},
   "outputs": [],
   "source": [
    "a2=a[np.newaxis]"
   ]
  },
  {
   "cell_type": "code",
   "execution_count": 30,
   "id": "b2ceafc7",
   "metadata": {},
   "outputs": [
    {
     "data": {
      "text/plain": [
       "array([[1, 2, 3, 4, 5, 6]])"
      ]
     },
     "execution_count": 30,
     "metadata": {},
     "output_type": "execute_result"
    }
   ],
   "source": [
    "a2"
   ]
  },
  {
   "cell_type": "code",
   "execution_count": 31,
   "id": "5b8cb4b8",
   "metadata": {},
   "outputs": [
    {
     "data": {
      "text/plain": [
       "array([1, 2, 3, 4, 5, 6])"
      ]
     },
     "execution_count": 31,
     "metadata": {},
     "output_type": "execute_result"
    }
   ],
   "source": [
    "a"
   ]
  },
  {
   "cell_type": "code",
   "execution_count": 32,
   "id": "e573939d",
   "metadata": {},
   "outputs": [
    {
     "data": {
      "text/plain": [
       "1"
      ]
     },
     "execution_count": 32,
     "metadata": {},
     "output_type": "execute_result"
    }
   ],
   "source": [
    "a2[0][0]"
   ]
  },
  {
   "cell_type": "code",
   "execution_count": 33,
   "id": "45d83d7c",
   "metadata": {},
   "outputs": [
    {
     "name": "stdout",
     "output_type": "stream",
     "text": [
      "(1, 6)\n",
      "[[1 2 3 4 5 6]]\n"
     ]
    }
   ],
   "source": [
    "rowV=a[np.newaxis,:]\n",
    "print(rowV.shape)\n",
    "print(rowV)"
   ]
  },
  {
   "cell_type": "code",
   "execution_count": 34,
   "id": "5d117fb8",
   "metadata": {},
   "outputs": [
    {
     "name": "stdout",
     "output_type": "stream",
     "text": [
      "(6, 1)\n",
      "[[1]\n",
      " [2]\n",
      " [3]\n",
      " [4]\n",
      " [5]\n",
      " [6]]\n"
     ]
    }
   ],
   "source": [
    "colV=a[:,np.newaxis]\n",
    "print(colV.shape)\n",
    "print(colV)"
   ]
  },
  {
   "cell_type": "markdown",
   "id": "2ab9967b",
   "metadata": {},
   "source": [
    "## indexing and slicing"
   ]
  },
  {
   "cell_type": "code",
   "execution_count": 47,
   "id": "cb6db2bc",
   "metadata": {},
   "outputs": [],
   "source": [
    "data=np.array([1,2,3,4,5,6,7,8,9])"
   ]
  },
  {
   "cell_type": "code",
   "execution_count": 48,
   "id": "c0802e62",
   "metadata": {},
   "outputs": [
    {
     "data": {
      "text/plain": [
       "3"
      ]
     },
     "execution_count": 48,
     "metadata": {},
     "output_type": "execute_result"
    }
   ],
   "source": [
    "data[2]"
   ]
  },
  {
   "cell_type": "code",
   "execution_count": 49,
   "id": "8d33a687",
   "metadata": {},
   "outputs": [
    {
     "data": {
      "text/plain": [
       "array([1, 2])"
      ]
     },
     "execution_count": 49,
     "metadata": {},
     "output_type": "execute_result"
    }
   ],
   "source": [
    "data[0:2]"
   ]
  },
  {
   "cell_type": "code",
   "execution_count": 50,
   "id": "4c8e466b",
   "metadata": {},
   "outputs": [
    {
     "data": {
      "text/plain": [
       "array([8, 9])"
      ]
     },
     "execution_count": 50,
     "metadata": {},
     "output_type": "execute_result"
    }
   ],
   "source": [
    "data[-2:]"
   ]
  },
  {
   "cell_type": "code",
   "execution_count": 51,
   "id": "ae1c4b34",
   "metadata": {},
   "outputs": [],
   "source": [
    "three_up=(data>=2)"
   ]
  },
  {
   "cell_type": "code",
   "execution_count": 53,
   "id": "5f0406c1",
   "metadata": {},
   "outputs": [
    {
     "name": "stdout",
     "output_type": "stream",
     "text": [
      "[2 3 4 5 6 7 8 9]\n",
      "[2 3 4 5 6 7 8 9]\n"
     ]
    }
   ],
   "source": [
    "print(data[three_up])\n",
    "print(data[data>=2])"
   ]
  },
  {
   "cell_type": "code",
   "execution_count": 54,
   "id": "e34959a9",
   "metadata": {},
   "outputs": [
    {
     "name": "stdout",
     "output_type": "stream",
     "text": [
      "[2 4 6 8]\n"
     ]
    }
   ],
   "source": [
    "#select elements that meet certain criteria\n",
    "divisible_by_2=data[data%2==0]\n",
    "print(divisible_by_2)"
   ]
  },
  {
   "cell_type": "code",
   "execution_count": 56,
   "id": "a8d6da8b",
   "metadata": {},
   "outputs": [
    {
     "name": "stdout",
     "output_type": "stream",
     "text": [
      "[6 8]\n"
     ]
    }
   ],
   "source": [
    "#select elements that meet multiple criterias\n",
    "criteria=data[(data%2==0) & (data>5)]\n",
    "print(criteria)"
   ]
  },
  {
   "cell_type": "markdown",
   "id": "9b251947",
   "metadata": {},
   "source": [
    "## Creating Array from Existing Data"
   ]
  },
  {
   "cell_type": "code",
   "execution_count": 62,
   "id": "06f7e258",
   "metadata": {},
   "outputs": [
    {
     "name": "stdout",
     "output_type": "stream",
     "text": [
      "[[1 2]\n",
      " [3 3]\n",
      " [5 5]\n",
      " [8 8]]\n"
     ]
    }
   ],
   "source": [
    "#stacking an array\n",
    "a1=np.array([[1,2],\n",
    "             [3,3]])\n",
    "a2=np.array([[5,5],\n",
    "             [8,8]])\n",
    "a=np.vstack((a1,a2))\n",
    "print(a)"
   ]
  },
  {
   "cell_type": "code",
   "execution_count": 63,
   "id": "7592eb4f",
   "metadata": {},
   "outputs": [
    {
     "name": "stdout",
     "output_type": "stream",
     "text": [
      "[[1 2 5 5]\n",
      " [3 3 8 8]]\n"
     ]
    }
   ],
   "source": [
    "h=np.hstack((a1,a2))\n",
    "print(h)"
   ]
  },
  {
   "cell_type": "code",
   "execution_count": 67,
   "id": "414b1a04",
   "metadata": {},
   "outputs": [
    {
     "name": "stdout",
     "output_type": "stream",
     "text": [
      "[array([[1, 2],\n",
      "       [3, 3]]), array([[5, 5],\n",
      "       [8, 8]])]\n"
     ]
    }
   ],
   "source": [
    "#membagi array menjadi sejumlah array yg seukuran\n",
    "splith=np.hsplit(h,2)\n",
    "print(splith)"
   ]
  },
  {
   "cell_type": "code",
   "execution_count": 68,
   "id": "91df5b4e",
   "metadata": {},
   "outputs": [
    {
     "data": {
      "text/plain": [
       "array([[5, 5],\n",
       "       [8, 8]])"
      ]
     },
     "execution_count": 68,
     "metadata": {},
     "output_type": "execute_result"
    }
   ],
   "source": [
    "splith[1]"
   ]
  },
  {
   "cell_type": "code",
   "execution_count": 71,
   "id": "cb50578b",
   "metadata": {},
   "outputs": [
    {
     "name": "stdout",
     "output_type": "stream",
     "text": [
      "[1 2 3 4 5 6 7 8 9]\n",
      "[1 2 3 4 5 6 7 8 9]\n"
     ]
    }
   ],
   "source": [
    "b=data.view()\n",
    "c=data.copy()\n",
    "print(b)\n",
    "print(c)"
   ]
  },
  {
   "cell_type": "markdown",
   "id": "c6e4ea25",
   "metadata": {},
   "source": [
    "## Basic Array Operations"
   ]
  },
  {
   "cell_type": "code",
   "execution_count": 2,
   "id": "be8bd926",
   "metadata": {},
   "outputs": [],
   "source": [
    "a=np.array([[1,2],[3,4]])"
   ]
  },
  {
   "cell_type": "code",
   "execution_count": 3,
   "id": "73d1c4e7",
   "metadata": {},
   "outputs": [
    {
     "data": {
      "text/plain": [
       "array([[1, 2],\n",
       "       [3, 4]])"
      ]
     },
     "execution_count": 3,
     "metadata": {},
     "output_type": "execute_result"
    }
   ],
   "source": [
    "a"
   ]
  },
  {
   "cell_type": "code",
   "execution_count": 6,
   "id": "635772e0",
   "metadata": {},
   "outputs": [
    {
     "data": {
      "text/plain": [
       "10"
      ]
     },
     "execution_count": 6,
     "metadata": {},
     "output_type": "execute_result"
    }
   ],
   "source": [
    "# add all of the elements in the array\n",
    "a.sum()"
   ]
  },
  {
   "cell_type": "code",
   "execution_count": 9,
   "id": "72651b4d",
   "metadata": {},
   "outputs": [
    {
     "data": {
      "text/plain": [
       "array([4, 6])"
      ]
     },
     "execution_count": 9,
     "metadata": {},
     "output_type": "execute_result"
    }
   ],
   "source": [
    "#sum column\n",
    "a.sum(axis=0)"
   ]
  },
  {
   "cell_type": "code",
   "execution_count": 10,
   "id": "42044d26",
   "metadata": {},
   "outputs": [
    {
     "data": {
      "text/plain": [
       "array([3, 7])"
      ]
     },
     "execution_count": 10,
     "metadata": {},
     "output_type": "execute_result"
    }
   ],
   "source": [
    "#sum row\n",
    "a.sum(axis=1)"
   ]
  },
  {
   "cell_type": "code",
   "execution_count": 22,
   "id": "eccc45a7",
   "metadata": {},
   "outputs": [],
   "source": [
    "b=np.ones(2)\n",
    "ones=np.vstack((b,b))"
   ]
  },
  {
   "cell_type": "code",
   "execution_count": 23,
   "id": "3838773a",
   "metadata": {},
   "outputs": [
    {
     "data": {
      "text/plain": [
       "array([[1., 1.],\n",
       "       [1., 1.]])"
      ]
     },
     "execution_count": 23,
     "metadata": {},
     "output_type": "execute_result"
    }
   ],
   "source": [
    "ones"
   ]
  },
  {
   "cell_type": "code",
   "execution_count": 24,
   "id": "36202df2",
   "metadata": {},
   "outputs": [
    {
     "data": {
      "text/plain": [
       "array([[2., 3.],\n",
       "       [4., 5.]])"
      ]
     },
     "execution_count": 24,
     "metadata": {},
     "output_type": "execute_result"
    }
   ],
   "source": [
    "#sum array with same size\n",
    "a+ones"
   ]
  },
  {
   "cell_type": "code",
   "execution_count": 37,
   "id": "283c337b",
   "metadata": {},
   "outputs": [
    {
     "data": {
      "text/plain": [
       "array([[ 1,  4],\n",
       "       [ 9, 16]])"
      ]
     },
     "execution_count": 37,
     "metadata": {},
     "output_type": "execute_result"
    }
   ],
   "source": [
    "#setiap element matriks dikalikan dengan dirinya sendiri\n",
    "a*a"
   ]
  },
  {
   "cell_type": "code",
   "execution_count": 26,
   "id": "b5755e83",
   "metadata": {},
   "outputs": [
    {
     "data": {
      "text/plain": [
       "array([[1., 1.],\n",
       "       [1., 1.]])"
      ]
     },
     "execution_count": 26,
     "metadata": {},
     "output_type": "execute_result"
    }
   ],
   "source": [
    "a/a"
   ]
  },
  {
   "cell_type": "code",
   "execution_count": 27,
   "id": "11efc0ec",
   "metadata": {},
   "outputs": [
    {
     "data": {
      "text/plain": [
       "array([[1.5, 3. ],\n",
       "       [4.5, 6. ]])"
      ]
     },
     "execution_count": 27,
     "metadata": {},
     "output_type": "execute_result"
    }
   ],
   "source": [
    "a*1.5"
   ]
  },
  {
   "cell_type": "code",
   "execution_count": 28,
   "id": "0ef3655f",
   "metadata": {},
   "outputs": [
    {
     "data": {
      "text/plain": [
       "4"
      ]
     },
     "execution_count": 28,
     "metadata": {},
     "output_type": "execute_result"
    }
   ],
   "source": [
    "a.max()"
   ]
  },
  {
   "cell_type": "code",
   "execution_count": 29,
   "id": "10ac446a",
   "metadata": {},
   "outputs": [
    {
     "data": {
      "text/plain": [
       "1"
      ]
     },
     "execution_count": 29,
     "metadata": {},
     "output_type": "execute_result"
    }
   ],
   "source": [
    "a.min()"
   ]
  },
  {
   "cell_type": "markdown",
   "id": "399563ab",
   "metadata": {},
   "source": [
    "# Matrices"
   ]
  },
  {
   "cell_type": "code",
   "execution_count": 30,
   "id": "03bff987",
   "metadata": {},
   "outputs": [
    {
     "data": {
      "text/plain": [
       "array([[1., 1.],\n",
       "       [1., 1.],\n",
       "       [1., 1.]])"
      ]
     },
     "execution_count": 30,
     "metadata": {},
     "output_type": "execute_result"
    }
   ],
   "source": [
    "np.ones((3,2))"
   ]
  },
  {
   "cell_type": "code",
   "execution_count": 32,
   "id": "3e155a1b",
   "metadata": {},
   "outputs": [],
   "source": [
    "r=np.random.random((3,2))"
   ]
  },
  {
   "cell_type": "code",
   "execution_count": 33,
   "id": "f94becc3",
   "metadata": {},
   "outputs": [
    {
     "data": {
      "text/plain": [
       "array([[0.80956731, 0.15887514],\n",
       "       [0.58008767, 0.69397576],\n",
       "       [0.6196593 , 0.69216565]])"
      ]
     },
     "execution_count": 33,
     "metadata": {},
     "output_type": "execute_result"
    }
   ],
   "source": [
    "r"
   ]
  },
  {
   "cell_type": "code",
   "execution_count": 35,
   "id": "7a7c901e",
   "metadata": {},
   "outputs": [
    {
     "data": {
      "text/plain": [
       "array([[1., 1.]])"
      ]
     },
     "execution_count": 35,
     "metadata": {},
     "output_type": "execute_result"
    }
   ],
   "source": [
    "#sum each row in matrices with a vector\n",
    "one_row=np.ones((1,2))\n",
    "one_row"
   ]
  },
  {
   "cell_type": "code",
   "execution_count": 36,
   "id": "7765c2ad",
   "metadata": {},
   "outputs": [
    {
     "name": "stdout",
     "output_type": "stream",
     "text": [
      "[[1.80956731 1.15887514]\n",
      " [1.58008767 1.69397576]\n",
      " [1.6196593  1.69216565]]\n"
     ]
    }
   ],
   "source": [
    "print(r+one_row)"
   ]
  },
  {
   "cell_type": "code",
   "execution_count": 39,
   "id": "c8e16c4a",
   "metadata": {},
   "outputs": [
    {
     "data": {
      "text/plain": [
       "array([[14, 14],\n",
       "       [12, 12]])"
      ]
     },
     "execution_count": 39,
     "metadata": {},
     "output_type": "execute_result"
    }
   ],
   "source": [
    "#perkalian matriks\n",
    "a=np.array([[1,2,3],[2,2,2]])\n",
    "b=np.array([[1,1],[2,2],[3,3]])\n",
    "np.dot(a,b)"
   ]
  },
  {
   "cell_type": "code",
   "execution_count": 40,
   "id": "3c2589a0",
   "metadata": {},
   "outputs": [
    {
     "name": "stdout",
     "output_type": "stream",
     "text": [
      "a: [[1 2 3]\n",
      " [2 2 2]]\n",
      "transpose a: [[1 2]\n",
      " [2 2]\n",
      " [3 2]]\n"
     ]
    }
   ],
   "source": [
    "#transpose matriks\n",
    "print(\"a:\",a)\n",
    "print(\"transpose a:\",a.T)"
   ]
  },
  {
   "cell_type": "code",
   "execution_count": 41,
   "id": "da279490",
   "metadata": {},
   "outputs": [],
   "source": [
    "#create array of six, dengan shape 2x3\n",
    "arr=np.arange(6).reshape((2,3))"
   ]
  },
  {
   "cell_type": "code",
   "execution_count": 42,
   "id": "450cadb0",
   "metadata": {},
   "outputs": [
    {
     "data": {
      "text/plain": [
       "array([[0, 1, 2],\n",
       "       [3, 4, 5]])"
      ]
     },
     "execution_count": 42,
     "metadata": {},
     "output_type": "execute_result"
    }
   ],
   "source": [
    "arr"
   ]
  },
  {
   "cell_type": "code",
   "execution_count": 43,
   "id": "f4282af0",
   "metadata": {},
   "outputs": [],
   "source": [
    "#mengubah matriks menjadi array\n",
    "arrflat=arr.flatten()"
   ]
  },
  {
   "cell_type": "code",
   "execution_count": 44,
   "id": "499decd3",
   "metadata": {},
   "outputs": [
    {
     "data": {
      "text/plain": [
       "array([0, 1, 2, 3, 4, 5])"
      ]
     },
     "execution_count": 44,
     "metadata": {},
     "output_type": "execute_result"
    }
   ],
   "source": [
    "arrflat"
   ]
  },
  {
   "cell_type": "code",
   "execution_count": null,
   "id": "27086dee",
   "metadata": {},
   "outputs": [],
   "source": []
  }
 ],
 "metadata": {
  "kernelspec": {
   "display_name": "Python 3",
   "language": "python",
   "name": "python3"
  },
  "language_info": {
   "codemirror_mode": {
    "name": "ipython",
    "version": 3
   },
   "file_extension": ".py",
   "mimetype": "text/x-python",
   "name": "python",
   "nbconvert_exporter": "python",
   "pygments_lexer": "ipython3",
   "version": "3.8.8"
  }
 },
 "nbformat": 4,
 "nbformat_minor": 5
}
