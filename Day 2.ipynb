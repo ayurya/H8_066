{
 "cells": [
  {
   "cell_type": "markdown",
   "id": "9d77be49",
   "metadata": {},
   "source": [
    "# Condition"
   ]
  },
  {
   "cell_type": "code",
   "execution_count": 1,
   "id": "0189d7a3",
   "metadata": {},
   "outputs": [
    {
     "name": "stdout",
     "output_type": "stream",
     "text": [
      "Yes\n",
      "Other Yes\n"
     ]
    }
   ],
   "source": [
    "if 1<2:\n",
    "    print(\"Yes\")\n",
    "    print(\"Other Yes\")"
   ]
  },
  {
   "cell_type": "code",
   "execution_count": 4,
   "id": "3e9fe071",
   "metadata": {},
   "outputs": [
    {
     "name": "stdout",
     "output_type": "stream",
     "text": [
      "Yes\n"
     ]
    }
   ],
   "source": [
    "x=0\n",
    "y=5\n",
    "\n",
    "if x<y: print(\"Yes\")"
   ]
  },
  {
   "cell_type": "code",
   "execution_count": 6,
   "id": "d9f30cc9",
   "metadata": {},
   "outputs": [
    {
     "name": "stdout",
     "output_type": "stream",
     "text": [
      "yes\n",
      "not a part of if\n"
     ]
    }
   ],
   "source": [
    "if 'aul' in 'grault':\n",
    "    print (\"yes\")\n",
    "\n",
    "print (\"not a part of if\")"
   ]
  },
  {
   "cell_type": "code",
   "execution_count": 8,
   "id": "22d02a1a",
   "metadata": {},
   "outputs": [
    {
     "name": "stdout",
     "output_type": "stream",
     "text": [
      "yes\n"
     ]
    }
   ],
   "source": [
    "x=True\n",
    "if x:\n",
    "    print(\"yes\")"
   ]
  },
  {
   "cell_type": "code",
   "execution_count": 9,
   "id": "e691ae02",
   "metadata": {},
   "outputs": [],
   "source": [
    "x=False\n",
    "if x:\n",
    "    print(\"yes\")"
   ]
  },
  {
   "cell_type": "code",
   "execution_count": 10,
   "id": "61da5e30",
   "metadata": {},
   "outputs": [
    {
     "name": "stdout",
     "output_type": "stream",
     "text": [
      "first condition\n",
      "10<20\n",
      "skip 10<20\n",
      "10!>20\n",
      "end of session\n"
     ]
    }
   ],
   "source": [
    "if 'foo' in ['foo', 'bar','baz']:\n",
    "    print ('first condition')\n",
    "    \n",
    "    if 10<20:\n",
    "        print('10<20')\n",
    "    print('skip 10<20')\n",
    "    \n",
    "    if 10>20:\n",
    "        print('skip 10>20')\n",
    "    print('10!>20')\n",
    "print('end of session')"
   ]
  },
  {
   "cell_type": "code",
   "execution_count": 15,
   "id": "d294e7f7",
   "metadata": {
    "scrolled": true
   },
   "outputs": [
    {
     "name": "stdout",
     "output_type": "stream",
     "text": [
      "M is medium\n"
     ]
    }
   ],
   "source": [
    "x=100\n",
    "\n",
    "if x==50:\n",
    "    print('s is small')\n",
    "elif x==100:\n",
    "    print('M is medium')\n",
    "else:\n",
    "    print('L is large')\n",
    "    "
   ]
  },
  {
   "cell_type": "markdown",
   "id": "4a4a9f07",
   "metadata": {},
   "source": [
    "# One line if statement"
   ]
  },
  {
   "cell_type": "code",
   "execution_count": 18,
   "id": "301a304f",
   "metadata": {},
   "outputs": [
    {
     "name": "stdout",
     "output_type": "stream",
     "text": [
      "Ya!\n",
      "it's \n",
      "Fred!\n"
     ]
    }
   ],
   "source": [
    "name='Fred'\n",
    "\n",
    "if name=='Fred': print('Ya!'); print(\"it's \"); print ('Fred!')"
   ]
  },
  {
   "cell_type": "markdown",
   "id": "a17421f2",
   "metadata": {},
   "source": [
    "# Conditional Expression"
   ]
  },
  {
   "cell_type": "code",
   "execution_count": 19,
   "id": "04b74c5d",
   "metadata": {},
   "outputs": [
    {
     "name": "stdout",
     "output_type": "stream",
     "text": [
      "Let's go to the  beach\n"
     ]
    }
   ],
   "source": [
    "raining=False\n",
    "print(\"Let's go to the \", \"beach\" if not raining else \"library\")"
   ]
  },
  {
   "cell_type": "code",
   "execution_count": 20,
   "id": "a8dffac1",
   "metadata": {},
   "outputs": [
    {
     "data": {
      "text/plain": [
       "'teen'"
      ]
     },
     "execution_count": 20,
     "metadata": {},
     "output_type": "execute_result"
    }
   ],
   "source": [
    "age=12\n",
    "s='teen' if age<21 else 'adult'\n",
    "s"
   ]
  },
  {
   "cell_type": "markdown",
   "id": "4234199f",
   "metadata": {},
   "source": [
    "# The Python pass Statement"
   ]
  },
  {
   "cell_type": "code",
   "execution_count": 21,
   "id": "4a6e323a",
   "metadata": {},
   "outputs": [
    {
     "name": "stdout",
     "output_type": "stream",
     "text": [
      "foo\n"
     ]
    }
   ],
   "source": [
    "if True:\n",
    "    pass\n",
    "print('foo')"
   ]
  },
  {
   "cell_type": "code",
   "execution_count": 22,
   "id": "6c14b1fb",
   "metadata": {},
   "outputs": [
    {
     "ename": "IndentationError",
     "evalue": "expected an indented block (<ipython-input-22-eb777a4224ed>, line 3)",
     "output_type": "error",
     "traceback": [
      "\u001b[1;36m  File \u001b[1;32m\"<ipython-input-22-eb777a4224ed>\"\u001b[1;36m, line \u001b[1;32m3\u001b[0m\n\u001b[1;33m    print('foo')\u001b[0m\n\u001b[1;37m    ^\u001b[0m\n\u001b[1;31mIndentationError\u001b[0m\u001b[1;31m:\u001b[0m expected an indented block\n"
     ]
    }
   ],
   "source": [
    "if True:\n",
    "  #  pass\n",
    "print('foo')"
   ]
  },
  {
   "cell_type": "code",
   "execution_count": 29,
   "id": "f1ad2c91",
   "metadata": {},
   "outputs": [
    {
     "name": "stdout",
     "output_type": "stream",
     "text": [
      "1 6\n",
      "2 5\n",
      "3 4\n",
      "Loop ended\n"
     ]
    }
   ],
   "source": [
    "i=1\n",
    "j=6\n",
    "while i<6:\n",
    "    print (i,j)\n",
    "    if i==3:\n",
    "        break\n",
    "    i+=1; j-=1\n",
    "\n",
    "print ('Loop ended')"
   ]
  },
  {
   "cell_type": "code",
   "execution_count": 31,
   "id": "8b13d761",
   "metadata": {},
   "outputs": [
    {
     "name": "stdout",
     "output_type": "stream",
     "text": [
      "2 5\n",
      "4 3\n",
      "5 2\n",
      "6 1\n",
      "Loop ended\n"
     ]
    }
   ],
   "source": [
    "i=1\n",
    "j=6\n",
    "while i<6:\n",
    "\n",
    "\n",
    "    i+=1; j-=1\n",
    "    if i==3:\n",
    "        continue\n",
    "    print (i,j)\n",
    "print ('Loop ended')"
   ]
  },
  {
   "cell_type": "code",
   "execution_count": 33,
   "id": "1ab33eb7",
   "metadata": {},
   "outputs": [
    {
     "name": "stdout",
     "output_type": "stream",
     "text": [
      "foo\n",
      "> baz\n",
      "> qux\n",
      "bar\n",
      "> baz\n",
      "> qux\n"
     ]
    }
   ],
   "source": [
    "a=['foo','bar']\n",
    "\n",
    "\n",
    "while len(a):\n",
    "    print(a.pop(0))\n",
    "    b=['baz','qux']\n",
    "    while len(b):\n",
    "        print('>',b.pop(0))"
   ]
  },
  {
   "cell_type": "markdown",
   "id": "9861b967",
   "metadata": {},
   "source": [
    "# definite iteration"
   ]
  },
  {
   "cell_type": "code",
   "execution_count": 40,
   "id": "7067631e",
   "metadata": {},
   "outputs": [
    {
     "ename": "SyntaxError",
     "evalue": "invalid syntax (<ipython-input-40-c20fca336703>, line 2)",
     "output_type": "error",
     "traceback": [
      "\u001b[1;36m  File \u001b[1;32m\"<ipython-input-40-c20fca336703>\"\u001b[1;36m, line \u001b[1;32m2\u001b[0m\n\u001b[1;33m    for i in [1:10]:\u001b[0m\n\u001b[1;37m               ^\u001b[0m\n\u001b[1;31mSyntaxError\u001b[0m\u001b[1;31m:\u001b[0m invalid syntax\n"
     ]
    }
   ],
   "source": [
    "i=1\n",
    "for i in [1:10]:\n",
    "    i+=1\n",
    "    print(i)"
   ]
  },
  {
   "cell_type": "code",
   "execution_count": 41,
   "id": "3c9c1007",
   "metadata": {},
   "outputs": [
    {
     "name": "stdout",
     "output_type": "stream",
     "text": [
      "1\n",
      "2\n",
      "3\n"
     ]
    }
   ],
   "source": [
    "d={'foo':1, 'bar':2,'baz':3}\n",
    "for k in d:\n",
    "    print(d[k])"
   ]
  },
  {
   "cell_type": "code",
   "execution_count": 45,
   "id": "e4ea6498",
   "metadata": {},
   "outputs": [
    {
     "name": "stdout",
     "output_type": "stream",
     "text": [
      "foo\n",
      "bar\n",
      "baz\n"
     ]
    }
   ],
   "source": [
    "d=['foo', 'bar','baz']\n",
    "for k in d:\n",
    "    print(k)"
   ]
  },
  {
   "cell_type": "code",
   "execution_count": 46,
   "id": "35c5675e",
   "metadata": {},
   "outputs": [
    {
     "name": "stdout",
     "output_type": "stream",
     "text": [
      "0\n",
      "1\n",
      "2\n",
      "3\n",
      "4\n"
     ]
    }
   ],
   "source": [
    "x=range(5)\n",
    "\n",
    "for i in x:\n",
    "    print(i)"
   ]
  },
  {
   "cell_type": "code",
   "execution_count": null,
   "id": "e6a9273a",
   "metadata": {},
   "outputs": [],
   "source": []
  }
 ],
 "metadata": {
  "kernelspec": {
   "display_name": "Python 3",
   "language": "python",
   "name": "python3"
  },
  "language_info": {
   "codemirror_mode": {
    "name": "ipython",
    "version": 3
   },
   "file_extension": ".py",
   "mimetype": "text/x-python",
   "name": "python",
   "nbconvert_exporter": "python",
   "pygments_lexer": "ipython3",
   "version": "3.8.8"
  }
 },
 "nbformat": 4,
 "nbformat_minor": 5
}
