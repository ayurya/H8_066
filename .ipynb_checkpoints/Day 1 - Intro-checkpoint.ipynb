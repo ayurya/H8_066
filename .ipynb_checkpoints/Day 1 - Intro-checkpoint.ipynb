{
 "cells": [
  {
   "cell_type": "markdown",
   "id": "1674b2ff",
   "metadata": {},
   "source": [
    "ini adalah keterangan\n",
    "1. Klik Cell -> cell type -> markdown\n",
    "2. akhiri dengan Shift + enter"
   ]
  },
  {
   "cell_type": "markdown",
   "id": "0af2fa3f",
   "metadata": {},
   "source": [
    "Untuk jadi markdown tekan 'm' dan code tekan 'y', diawali dengan buat box menjadi biru "
   ]
  },
  {
   "cell_type": "markdown",
   "id": "23ea0e0a",
   "metadata": {},
   "source": [
    "# Title"
   ]
  },
  {
   "cell_type": "code",
   "execution_count": null,
   "id": "0bf2ccf4",
   "metadata": {},
   "outputs": [],
   "source": []
  },
  {
   "cell_type": "markdown",
   "id": "e42a0264",
   "metadata": {},
   "source": [
    "Use hashtag for setting Heading\n",
    "# Title\n",
    "## Subtitle 1\n",
    "### Subtitle 2"
   ]
  },
  {
   "cell_type": "code",
   "execution_count": 1,
   "id": "e270a0f4",
   "metadata": {},
   "outputs": [
    {
     "data": {
      "text/plain": [
       "int"
      ]
     },
     "execution_count": 1,
     "metadata": {},
     "output_type": "execute_result"
    }
   ],
   "source": [
    "type (123)"
   ]
  },
  {
   "cell_type": "code",
   "execution_count": 4,
   "id": "1e4a1c04",
   "metadata": {},
   "outputs": [
    {
     "data": {
      "text/plain": [
       "str"
      ]
     },
     "execution_count": 4,
     "metadata": {},
     "output_type": "execute_result"
    }
   ],
   "source": [
    "type(\"abc\")"
   ]
  },
  {
   "cell_type": "code",
   "execution_count": 5,
   "id": "55a1b7d8",
   "metadata": {},
   "outputs": [
    {
     "name": "stdout",
     "output_type": "stream",
     "text": [
      "12345\n"
     ]
    }
   ],
   "source": [
    "print(12345)"
   ]
  },
  {
   "cell_type": "code",
   "execution_count": 6,
   "id": "7a6d2409",
   "metadata": {},
   "outputs": [
    {
     "name": "stdout",
     "output_type": "stream",
     "text": [
      "12355\n"
     ]
    }
   ],
   "source": [
    "print(12345+10)"
   ]
  },
  {
   "cell_type": "code",
   "execution_count": 7,
   "id": "d19c08fe",
   "metadata": {},
   "outputs": [
    {
     "data": {
      "text/plain": [
       "float"
      ]
     },
     "execution_count": 7,
     "metadata": {},
     "output_type": "execute_result"
    }
   ],
   "source": [
    "type(10.5)"
   ]
  },
  {
   "cell_type": "code",
   "execution_count": 8,
   "id": "5ee6dc21",
   "metadata": {},
   "outputs": [
    {
     "name": "stdout",
     "output_type": "stream",
     "text": [
      "<class 'float'>\n"
     ]
    }
   ],
   "source": [
    "print (type(10.7))"
   ]
  },
  {
   "cell_type": "code",
   "execution_count": 9,
   "id": "a99c250f",
   "metadata": {},
   "outputs": [
    {
     "name": "stdout",
     "output_type": "stream",
     "text": [
      "4.2\n",
      "4.0\n",
      "0.2\n",
      "4000000.0\n",
      "0.00042\n"
     ]
    }
   ],
   "source": [
    "print(4.2)\n",
    "print(4.)\n",
    "print(.2)\n",
    "print(.4e7)\n",
    "print(4.2e-4)"
   ]
  },
  {
   "cell_type": "code",
   "execution_count": 10,
   "id": "fffe6bfc",
   "metadata": {},
   "outputs": [
    {
     "name": "stdout",
     "output_type": "stream",
     "text": [
      "day1\n",
      "Day1\n"
     ]
    }
   ],
   "source": [
    "print (\"day1\")\n",
    "print('Day1')"
   ]
  },
  {
   "cell_type": "code",
   "execution_count": 11,
   "id": "f9031c9c",
   "metadata": {},
   "outputs": [],
   "source": [
    "n=500"
   ]
  },
  {
   "cell_type": "code",
   "execution_count": 12,
   "id": "1910b71d",
   "metadata": {},
   "outputs": [
    {
     "data": {
      "text/plain": [
       "500"
      ]
     },
     "execution_count": 12,
     "metadata": {},
     "output_type": "execute_result"
    }
   ],
   "source": [
    "n"
   ]
  },
  {
   "cell_type": "code",
   "execution_count": 13,
   "id": "2b232e62",
   "metadata": {},
   "outputs": [],
   "source": [
    "satu='dua'"
   ]
  },
  {
   "cell_type": "code",
   "execution_count": 14,
   "id": "6a393bf6",
   "metadata": {},
   "outputs": [
    {
     "data": {
      "text/plain": [
       "'dua'"
      ]
     },
     "execution_count": 14,
     "metadata": {},
     "output_type": "execute_result"
    }
   ],
   "source": [
    "satu"
   ]
  },
  {
   "cell_type": "code",
   "execution_count": 15,
   "id": "f1c398f5",
   "metadata": {},
   "outputs": [],
   "source": [
    "age=10"
   ]
  },
  {
   "cell_type": "code",
   "execution_count": 16,
   "id": "ed68c956",
   "metadata": {},
   "outputs": [],
   "source": [
    "AGE=10"
   ]
  },
  {
   "cell_type": "code",
   "execution_count": 17,
   "id": "447c2421",
   "metadata": {},
   "outputs": [],
   "source": [
    "AGE=20"
   ]
  },
  {
   "cell_type": "code",
   "execution_count": 18,
   "id": "8853bdd4",
   "metadata": {},
   "outputs": [
    {
     "ename": "NameError",
     "evalue": "name 'Age' is not defined",
     "output_type": "error",
     "traceback": [
      "\u001b[1;31m---------------------------------------------------------------------------\u001b[0m",
      "\u001b[1;31mNameError\u001b[0m                                 Traceback (most recent call last)",
      "\u001b[1;32m<ipython-input-18-5f234018fe0d>\u001b[0m in \u001b[0;36m<module>\u001b[1;34m\u001b[0m\n\u001b[0;32m      1\u001b[0m \u001b[0mAGE\u001b[0m\u001b[1;33m\u001b[0m\u001b[1;33m\u001b[0m\u001b[0m\n\u001b[0;32m      2\u001b[0m \u001b[0mage\u001b[0m\u001b[1;33m\u001b[0m\u001b[1;33m\u001b[0m\u001b[0m\n\u001b[1;32m----> 3\u001b[1;33m \u001b[0mAge\u001b[0m\u001b[1;33m\u001b[0m\u001b[1;33m\u001b[0m\u001b[0m\n\u001b[0m",
      "\u001b[1;31mNameError\u001b[0m: name 'Age' is not defined"
     ]
    }
   ],
   "source": [
    "AGE\n",
    "age\n",
    "Age"
   ]
  },
  {
   "cell_type": "code",
   "execution_count": 19,
   "id": "83a959b0",
   "metadata": {},
   "outputs": [],
   "source": [
    "a=b=c=300"
   ]
  },
  {
   "cell_type": "code",
   "execution_count": 20,
   "id": "fd8a6222",
   "metadata": {},
   "outputs": [
    {
     "data": {
      "text/plain": [
       "300"
      ]
     },
     "execution_count": 20,
     "metadata": {},
     "output_type": "execute_result"
    }
   ],
   "source": [
    "a"
   ]
  },
  {
   "cell_type": "code",
   "execution_count": 21,
   "id": "9705b06d",
   "metadata": {},
   "outputs": [],
   "source": [
    "c=700"
   ]
  },
  {
   "cell_type": "code",
   "execution_count": 22,
   "id": "b31173f1",
   "metadata": {},
   "outputs": [
    {
     "data": {
      "text/plain": [
       "300"
      ]
     },
     "execution_count": 22,
     "metadata": {},
     "output_type": "execute_result"
    }
   ],
   "source": [
    "a"
   ]
  },
  {
   "cell_type": "markdown",
   "id": "0ab3cebe",
   "metadata": {},
   "source": [
    "# Operators & Expression in PY"
   ]
  },
  {
   "cell_type": "code",
   "execution_count": 27,
   "id": "0f28b6f3",
   "metadata": {},
   "outputs": [],
   "source": [
    "b=5.\n",
    "a=10\n",
    "c=\"24\""
   ]
  },
  {
   "cell_type": "code",
   "execution_count": 28,
   "id": "5f7f4027",
   "metadata": {},
   "outputs": [
    {
     "data": {
      "text/plain": [
       "15.0"
      ]
     },
     "execution_count": 28,
     "metadata": {},
     "output_type": "execute_result"
    }
   ],
   "source": [
    "a+b"
   ]
  },
  {
   "cell_type": "code",
   "execution_count": 29,
   "id": "cecc28de",
   "metadata": {},
   "outputs": [
    {
     "ename": "TypeError",
     "evalue": "unsupported operand type(s) for +: 'int' and 'str'",
     "output_type": "error",
     "traceback": [
      "\u001b[1;31m---------------------------------------------------------------------------\u001b[0m",
      "\u001b[1;31mTypeError\u001b[0m                                 Traceback (most recent call last)",
      "\u001b[1;32m<ipython-input-29-e200917bc55f>\u001b[0m in \u001b[0;36m<module>\u001b[1;34m\u001b[0m\n\u001b[1;32m----> 1\u001b[1;33m \u001b[0ma\u001b[0m\u001b[1;33m+\u001b[0m\u001b[0mc\u001b[0m\u001b[1;33m\u001b[0m\u001b[1;33m\u001b[0m\u001b[0m\n\u001b[0m",
      "\u001b[1;31mTypeError\u001b[0m: unsupported operand type(s) for +: 'int' and 'str'"
     ]
    }
   ],
   "source": [
    "a+c"
   ]
  },
  {
   "cell_type": "code",
   "execution_count": 31,
   "id": "0bc8664d",
   "metadata": {},
   "outputs": [
    {
     "name": "stdout",
     "output_type": "stream",
     "text": [
      "15.0\n",
      "5.0\n",
      "50.0\n",
      "2.0\n",
      "0.0\n",
      "100000.0\n"
     ]
    }
   ],
   "source": [
    "print(a+b)\n",
    "print(a-b)\n",
    "print(a*b)\n",
    "print(a/b)\n",
    "print(a%b)\n",
    "print(a ** b)"
   ]
  },
  {
   "cell_type": "code",
   "execution_count": 32,
   "id": "8b88e05c",
   "metadata": {},
   "outputs": [
    {
     "data": {
      "text/plain": [
       "0.3333333333333333"
      ]
     },
     "execution_count": 32,
     "metadata": {},
     "output_type": "execute_result"
    }
   ],
   "source": [
    "a=1\n",
    "b=3\n",
    "a/b"
   ]
  },
  {
   "cell_type": "markdown",
   "id": "7e3966b9",
   "metadata": {},
   "source": [
    "# Comparison Operators"
   ]
  },
  {
   "cell_type": "code",
   "execution_count": 33,
   "id": "0ccfe922",
   "metadata": {},
   "outputs": [
    {
     "name": "stdout",
     "output_type": "stream",
     "text": [
      "False\n",
      "True\n",
      "True\n",
      "False\n"
     ]
    }
   ],
   "source": [
    "a=56\n",
    "b=100\n",
    "print (a == b)\n",
    "print (a != b)\n",
    "print (a<=b)\n",
    "print (a>=b)"
   ]
  },
  {
   "cell_type": "markdown",
   "id": "6c3463c0",
   "metadata": {},
   "source": [
    "# String Manipulation"
   ]
  },
  {
   "cell_type": "code",
   "execution_count": 38,
   "id": "e294a7e0",
   "metadata": {},
   "outputs": [
    {
     "name": "stdout",
     "output_type": "stream",
     "text": [
      "somewhere over the rainbow\n"
     ]
    }
   ],
   "source": [
    "x='somewhere'\n",
    "y=\"over\"\n",
    "z='the rainbow'\n",
    "c=x+' '+y+' '+z\n",
    "print(x+' '+y+' '+z)"
   ]
  },
  {
   "cell_type": "code",
   "execution_count": 35,
   "id": "38530dd6",
   "metadata": {},
   "outputs": [
    {
     "data": {
      "text/plain": [
       "'somewheresomewheresomewheresomewhere'"
      ]
     },
     "execution_count": 35,
     "metadata": {},
     "output_type": "execute_result"
    }
   ],
   "source": [
    "x*4"
   ]
  },
  {
   "cell_type": "code",
   "execution_count": 36,
   "id": "b4b7727e",
   "metadata": {},
   "outputs": [
    {
     "name": "stdout",
     "output_type": "stream",
     "text": [
      "True\n"
     ]
    }
   ],
   "source": [
    "a='some'\n",
    "print (a in x)"
   ]
  },
  {
   "cell_type": "markdown",
   "id": "369f52e7",
   "metadata": {},
   "source": [
    "## case convertion"
   ]
  },
  {
   "cell_type": "code",
   "execution_count": 39,
   "id": "39a4bd57",
   "metadata": {},
   "outputs": [
    {
     "name": "stdout",
     "output_type": "stream",
     "text": [
      "Somewhere\n",
      "somewhere\n",
      "SOMEWHERE\n",
      "Somewhere Over The Rainbow\n",
      "SOMEWHERE OVER THE RAINBOW\n"
     ]
    }
   ],
   "source": [
    "#capitalize\n",
    "print(x.capitalize())\n",
    "print(x.lower())\n",
    "print(x.swapcase())\n",
    "print(c.title())\n",
    "print(c.upper())"
   ]
  },
  {
   "cell_type": "markdown",
   "id": "3b20b350",
   "metadata": {},
   "source": [
    "# Phyton List"
   ]
  },
  {
   "cell_type": "code",
   "execution_count": 41,
   "id": "13d72690",
   "metadata": {},
   "outputs": [
    {
     "name": "stdout",
     "output_type": "stream",
     "text": [
      "[1, 2, 3, 4, 5]\n"
     ]
    }
   ],
   "source": [
    "v=[1,2,3,4,5]\n",
    "print(v)"
   ]
  },
  {
   "cell_type": "code",
   "execution_count": 43,
   "id": "cb8a0f27",
   "metadata": {},
   "outputs": [],
   "source": [
    "a=[21., 'cha cha', 3, True]"
   ]
  },
  {
   "cell_type": "code",
   "execution_count": 46,
   "id": "f97d3a7d",
   "metadata": {},
   "outputs": [
    {
     "name": "stdout",
     "output_type": "stream",
     "text": [
      "True\n",
      "3\n"
     ]
    }
   ],
   "source": [
    "print(a[3])\n",
    "print(a[-2])"
   ]
  },
  {
   "cell_type": "code",
   "execution_count": 62,
   "id": "03274b0f",
   "metadata": {},
   "outputs": [
    {
     "data": {
      "text/plain": [
       "['somewhere', 'fool']"
      ]
     },
     "execution_count": 62,
     "metadata": {},
     "output_type": "execute_result"
    }
   ],
   "source": [
    "# slicing mulai dari array ke 1 sd elemen ke 2 (exc. 3) \n",
    "a[1:3]"
   ]
  },
  {
   "cell_type": "code",
   "execution_count": 50,
   "id": "24fe6eac",
   "metadata": {},
   "outputs": [
    {
     "data": {
      "text/plain": [
       "[21.0, 'cha cha', 3, True, 'grault', 'garply']"
      ]
     },
     "execution_count": 50,
     "metadata": {},
     "output_type": "execute_result"
    }
   ],
   "source": [
    "#tambah array\n",
    "a+['grault','garply']"
   ]
  },
  {
   "cell_type": "code",
   "execution_count": 52,
   "id": "585a0117",
   "metadata": {},
   "outputs": [
    {
     "ename": "TypeError",
     "evalue": "'<' not supported between instances of 'str' and 'float'",
     "output_type": "error",
     "traceback": [
      "\u001b[1;31m---------------------------------------------------------------------------\u001b[0m",
      "\u001b[1;31mTypeError\u001b[0m                                 Traceback (most recent call last)",
      "\u001b[1;32m<ipython-input-52-ac08c829fa2c>\u001b[0m in \u001b[0;36m<module>\u001b[1;34m\u001b[0m\n\u001b[0;32m      1\u001b[0m \u001b[0mlen\u001b[0m\u001b[1;33m(\u001b[0m\u001b[0ma\u001b[0m\u001b[1;33m)\u001b[0m\u001b[1;33m\u001b[0m\u001b[1;33m\u001b[0m\u001b[0m\n\u001b[1;32m----> 2\u001b[1;33m \u001b[0mmin\u001b[0m\u001b[1;33m(\u001b[0m\u001b[0ma\u001b[0m\u001b[1;33m)\u001b[0m\u001b[1;33m\u001b[0m\u001b[1;33m\u001b[0m\u001b[0m\n\u001b[0m\u001b[0;32m      3\u001b[0m \u001b[0mmax\u001b[0m\u001b[1;33m(\u001b[0m\u001b[0ma\u001b[0m\u001b[1;33m)\u001b[0m\u001b[1;33m\u001b[0m\u001b[1;33m\u001b[0m\u001b[0m\n",
      "\u001b[1;31mTypeError\u001b[0m: '<' not supported between instances of 'str' and 'float'"
     ]
    }
   ],
   "source": [
    "len(a)\n",
    "min(a)\n",
    "max(a)"
   ]
  },
  {
   "cell_type": "code",
   "execution_count": 53,
   "id": "8ae4faba",
   "metadata": {},
   "outputs": [
    {
     "data": {
      "text/plain": [
       "'shy'"
      ]
     },
     "execution_count": 53,
     "metadata": {},
     "output_type": "execute_result"
    }
   ],
   "source": [
    "a=['see','sea','shy']\n",
    "len(a)\n",
    "min(a)\n",
    "max(a)"
   ]
  },
  {
   "cell_type": "code",
   "execution_count": 55,
   "id": "f82b8ec6",
   "metadata": {},
   "outputs": [
    {
     "data": {
      "text/plain": [
       "'sea'"
      ]
     },
     "execution_count": 55,
     "metadata": {},
     "output_type": "execute_result"
    }
   ],
   "source": [
    "min(a)"
   ]
  },
  {
   "cell_type": "markdown",
   "id": "dd6650f1",
   "metadata": {},
   "source": [
    "# modifying single list value"
   ]
  },
  {
   "cell_type": "code",
   "execution_count": 56,
   "id": "bf713998",
   "metadata": {},
   "outputs": [],
   "source": [
    "a=['foot','feet','feel','fool']"
   ]
  },
  {
   "cell_type": "code",
   "execution_count": 58,
   "id": "400af528",
   "metadata": {},
   "outputs": [],
   "source": [
    "a[2]=x"
   ]
  },
  {
   "cell_type": "code",
   "execution_count": 59,
   "id": "68c7ff38",
   "metadata": {},
   "outputs": [
    {
     "name": "stdout",
     "output_type": "stream",
     "text": [
      "['foot', 'feet', 'somewhere', 'fool']\n"
     ]
    }
   ],
   "source": [
    "print (a)"
   ]
  },
  {
   "cell_type": "code",
   "execution_count": 60,
   "id": "10764c81",
   "metadata": {},
   "outputs": [],
   "source": [
    "del a[1]"
   ]
  },
  {
   "cell_type": "code",
   "execution_count": 61,
   "id": "477579f9",
   "metadata": {},
   "outputs": [
    {
     "name": "stdout",
     "output_type": "stream",
     "text": [
      "['foot', 'somewhere', 'fool']\n"
     ]
    }
   ],
   "source": [
    "print(a)"
   ]
  },
  {
   "cell_type": "code",
   "execution_count": 63,
   "id": "1f06ea47",
   "metadata": {},
   "outputs": [
    {
     "name": "stdout",
     "output_type": "stream",
     "text": [
      "['foot', 3, 4, 5]\n"
     ]
    }
   ],
   "source": [
    "a[1:3]=[3,4,5]\n",
    "print(a)"
   ]
  },
  {
   "cell_type": "code",
   "execution_count": 64,
   "id": "26a62a9d",
   "metadata": {},
   "outputs": [],
   "source": [
    "a=['foot', 'feet', 'somewhere', 'fool']"
   ]
  },
  {
   "cell_type": "code",
   "execution_count": 69,
   "id": "549e1019",
   "metadata": {},
   "outputs": [
    {
     "name": "stdout",
     "output_type": "stream",
     "text": [
      "['foot', 'feet', 'somewhere', 'fool']\n",
      "['foot', 3, 4, 5, 'somewhere', 'fool']\n"
     ]
    }
   ],
   "source": [
    "a=['foot', 'feet', 'somewhere', 'fool']\n",
    "print(a)\n",
    "a[1:2]=[3,4,5]\n",
    "print(a)"
   ]
  },
  {
   "cell_type": "markdown",
   "id": "7c7be8c8",
   "metadata": {},
   "source": [
    "# Dictionary"
   ]
  },
  {
   "cell_type": "code",
   "execution_count": 70,
   "id": "80034f8d",
   "metadata": {},
   "outputs": [],
   "source": [
    "a=[1,2,3,4,['x','y','z',['sun','shine',True]]]"
   ]
  },
  {
   "cell_type": "code",
   "execution_count": 71,
   "id": "676a0a77",
   "metadata": {},
   "outputs": [
    {
     "name": "stdout",
     "output_type": "stream",
     "text": [
      "[1, 2, 3, 4, ['x', 'y', 'z', ['sun', 'shine', True]]]\n"
     ]
    }
   ],
   "source": [
    "print(a)"
   ]
  },
  {
   "cell_type": "code",
   "execution_count": 72,
   "id": "f1afbe71",
   "metadata": {},
   "outputs": [
    {
     "data": {
      "text/plain": [
       "['x', 'y', 'z', ['sun', 'shine', True]]"
      ]
     },
     "execution_count": 72,
     "metadata": {},
     "output_type": "execute_result"
    }
   ],
   "source": [
    "a[-1]"
   ]
  },
  {
   "cell_type": "code",
   "execution_count": 73,
   "id": "7a9bfe52",
   "metadata": {},
   "outputs": [
    {
     "data": {
      "text/plain": [
       "['sun', 'shine', True]"
      ]
     },
     "execution_count": 73,
     "metadata": {},
     "output_type": "execute_result"
    }
   ],
   "source": [
    "a[-1][-1]"
   ]
  },
  {
   "cell_type": "code",
   "execution_count": 74,
   "id": "08fe4587",
   "metadata": {},
   "outputs": [],
   "source": [
    "# Nama tim\n",
    "Team={\n",
    "    'Colorado':'Rockies',\n",
    "    'Boston':'Red Socks',\n",
    "    'Seattle':'Mariners'    \n",
    "}"
   ]
  },
  {
   "cell_type": "code",
   "execution_count": 75,
   "id": "8611be04",
   "metadata": {},
   "outputs": [
    {
     "data": {
      "text/plain": [
       "'Rockies'"
      ]
     },
     "execution_count": 75,
     "metadata": {},
     "output_type": "execute_result"
    }
   ],
   "source": [
    "Team['Colorado']"
   ]
  },
  {
   "cell_type": "code",
   "execution_count": 76,
   "id": "77f63b40",
   "metadata": {},
   "outputs": [
    {
     "data": {
      "text/plain": [
       "{'Colorado': 'Rockies',\n",
       " 'Boston': 'Red Socks',\n",
       " 'Seattle': 'Mariners',\n",
       " 'Kansas City': 'Royals'}"
      ]
     },
     "execution_count": 76,
     "metadata": {},
     "output_type": "execute_result"
    }
   ],
   "source": [
    "Team['Kansas City']='Royals'\n",
    "Team"
   ]
  },
  {
   "cell_type": "code",
   "execution_count": 77,
   "id": "5e40ad92",
   "metadata": {},
   "outputs": [],
   "source": [
    "del Team['Seattle']"
   ]
  },
  {
   "cell_type": "code",
   "execution_count": 78,
   "id": "5117b6a2",
   "metadata": {},
   "outputs": [
    {
     "data": {
      "text/plain": [
       "{'Colorado': 'Rockies', 'Boston': 'Red Socks', 'Kansas City': 'Royals'}"
      ]
     },
     "execution_count": 78,
     "metadata": {},
     "output_type": "execute_result"
    }
   ],
   "source": [
    "Team"
   ]
  },
  {
   "cell_type": "code",
   "execution_count": 79,
   "id": "afd7d1b4",
   "metadata": {},
   "outputs": [],
   "source": [
    "Students={}"
   ]
  },
  {
   "cell_type": "code",
   "execution_count": 80,
   "id": "ff795684",
   "metadata": {},
   "outputs": [
    {
     "data": {
      "text/plain": [
       "dict"
      ]
     },
     "execution_count": 80,
     "metadata": {},
     "output_type": "execute_result"
    }
   ],
   "source": [
    "type(Students)"
   ]
  },
  {
   "cell_type": "code",
   "execution_count": 81,
   "id": "8ffd06ac",
   "metadata": {},
   "outputs": [],
   "source": [
    "Students['name']='Alfa'\n",
    "Students['Age']=19\n",
    "Students['Books rent']=['Calculus','Programming']"
   ]
  },
  {
   "cell_type": "code",
   "execution_count": 82,
   "id": "9d3ccd2d",
   "metadata": {},
   "outputs": [
    {
     "name": "stdout",
     "output_type": "stream",
     "text": [
      "{'name': 'Alfa', 'Age': 19, 'Books rent': ['Calculus', 'Programming']}\n"
     ]
    }
   ],
   "source": [
    "print(Students)"
   ]
  },
  {
   "cell_type": "code",
   "execution_count": 85,
   "id": "4ea3e5ec",
   "metadata": {},
   "outputs": [],
   "source": [
    "d={'a':1, 'b':2,'c':3}"
   ]
  },
  {
   "cell_type": "code",
   "execution_count": 86,
   "id": "2a669cc5",
   "metadata": {},
   "outputs": [
    {
     "name": "stdout",
     "output_type": "stream",
     "text": [
      "dict_items([('a', 1), ('b', 2), ('c', 3)])\n"
     ]
    }
   ],
   "source": [
    "print(d.items())"
   ]
  },
  {
   "cell_type": "code",
   "execution_count": 87,
   "id": "593d8d10",
   "metadata": {},
   "outputs": [
    {
     "name": "stdout",
     "output_type": "stream",
     "text": [
      "dict_keys(['a', 'b', 'c'])\n"
     ]
    }
   ],
   "source": [
    "print(d.keys())"
   ]
  },
  {
   "cell_type": "code",
   "execution_count": 88,
   "id": "750e3b5a",
   "metadata": {},
   "outputs": [
    {
     "name": "stdout",
     "output_type": "stream",
     "text": [
      "dict_values([1, 2, 3])\n"
     ]
    }
   ],
   "source": [
    "print(d.values())"
   ]
  },
  {
   "cell_type": "code",
   "execution_count": null,
   "id": "347b880c",
   "metadata": {},
   "outputs": [],
   "source": []
  }
 ],
 "metadata": {
  "kernelspec": {
   "display_name": "Python 3",
   "language": "python",
   "name": "python3"
  },
  "language_info": {
   "codemirror_mode": {
    "name": "ipython",
    "version": 3
   },
   "file_extension": ".py",
   "mimetype": "text/x-python",
   "name": "python",
   "nbconvert_exporter": "python",
   "pygments_lexer": "ipython3",
   "version": "3.8.8"
  }
 },
 "nbformat": 4,
 "nbformat_minor": 5
}
