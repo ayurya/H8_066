{
 "cells": [
  {
   "cell_type": "markdown",
   "id": "76b097d6",
   "metadata": {},
   "source": [
    "# Day 3"
   ]
  },
  {
   "cell_type": "code",
   "execution_count": 8,
   "id": "2548241a",
   "metadata": {},
   "outputs": [],
   "source": [
    "def ini_fungsi(par1, par2, par3):\n",
    "    print(par1,par2,par3)\n",
    "    jumlah=par1+par2+par3\n",
    "    print(jumlah)"
   ]
  },
  {
   "cell_type": "code",
   "execution_count": 9,
   "id": "3a935341",
   "metadata": {},
   "outputs": [
    {
     "name": "stdout",
     "output_type": "stream",
     "text": [
      "8 3 1\n",
      "12\n"
     ]
    }
   ],
   "source": [
    "ini_fungsi(8,3,1)"
   ]
  },
  {
   "cell_type": "code",
   "execution_count": 12,
   "id": "eab9bfec",
   "metadata": {},
   "outputs": [],
   "source": [
    "def say_hello():\n",
    "    \"\"\"\n",
    "    i am saying hello to you\n",
    "    \"\"\"\n",
    "    print(\"I'm writing hello to you\")"
   ]
  },
  {
   "cell_type": "code",
   "execution_count": 13,
   "id": "28996d1d",
   "metadata": {},
   "outputs": [
    {
     "name": "stdout",
     "output_type": "stream",
     "text": [
      "I'm writing hello to you\n"
     ]
    }
   ],
   "source": [
    "say_hello()"
   ]
  },
  {
   "cell_type": "markdown",
   "id": "1f9cb499",
   "metadata": {},
   "source": [
    "## Pass by Reference"
   ]
  },
  {
   "cell_type": "code",
   "execution_count": 27,
   "id": "77296815",
   "metadata": {},
   "outputs": [],
   "source": [
    "def appendme(mylist):\n",
    "    print(mylist)\n",
    "    \"menambah 1 elemen\"\n",
    "    mylist.append([1,2,3,4]);\n",
    "    print(mylist)\n",
    "    return"
   ]
  },
  {
   "cell_type": "code",
   "execution_count": 30,
   "id": "c0c168ae",
   "metadata": {},
   "outputs": [
    {
     "name": "stdout",
     "output_type": "stream",
     "text": [
      "[4, 3, 2, 1]\n",
      "[4, 3, 2, 1, [1, 2, 3, 4]]\n"
     ]
    }
   ],
   "source": [
    "mylist=[4,3,2,1]\n",
    "appendme(mylist)"
   ]
  },
  {
   "cell_type": "code",
   "execution_count": 34,
   "id": "9ff6ab0c",
   "metadata": {},
   "outputs": [],
   "source": [
    "def changeme(mylist):\n",
    "    print(mylist)\n",
    "    \"this changes a passed list into this function\"\n",
    "    mylist=[1,2,3,4];\n",
    "    print(mylist)\n",
    "    return"
   ]
  },
  {
   "cell_type": "code",
   "execution_count": 39,
   "id": "c97cd22c",
   "metadata": {},
   "outputs": [
    {
     "name": "stdout",
     "output_type": "stream",
     "text": [
      "[4, 3, 2, 1]\n",
      "[1, 2, 3, 4]\n",
      "be carefull! values outside the fuction willnot change: [4, 3, 2, 1]\n"
     ]
    }
   ],
   "source": [
    "mylist=[4,3,2,1]\n",
    "changeme(mylist)\n",
    "print(\"be carefull! values outside the fuction willnot change:\", mylist)"
   ]
  },
  {
   "cell_type": "code",
   "execution_count": 36,
   "id": "d5a454dc",
   "metadata": {},
   "outputs": [],
   "source": [
    "def extendme(mylist):\n",
    "    print(mylist)\n",
    "    \"this changes a passed list into this function\"\n",
    "    mylist.extend([1,2,3,4]);\n",
    "    print(mylist)\n",
    "    return"
   ]
  },
  {
   "cell_type": "code",
   "execution_count": 37,
   "id": "63e1801f",
   "metadata": {},
   "outputs": [
    {
     "name": "stdout",
     "output_type": "stream",
     "text": [
      "[4, 3, 2, 1]\n",
      "[4, 3, 2, 1, 1, 2, 3, 4]\n"
     ]
    }
   ],
   "source": [
    "mylist=[4,3,2,1]\n",
    "extendme(mylist)"
   ]
  },
  {
   "cell_type": "code",
   "execution_count": 42,
   "id": "f5c6de6e",
   "metadata": {},
   "outputs": [],
   "source": [
    "def delme(mylist):\n",
    "    print(mylist)\n",
    "    \"this changes a passed list into this function\"\n",
    "    mylist=[]\n",
    "    print(mylist)\n",
    "    return"
   ]
  },
  {
   "cell_type": "code",
   "execution_count": 43,
   "id": "95bb7a26",
   "metadata": {},
   "outputs": [
    {
     "name": "stdout",
     "output_type": "stream",
     "text": [
      "[4, 3, 2, 1]\n",
      "[]\n",
      "be carefull! values outside the fuction willnot change: [4, 3, 2, 1]\n"
     ]
    }
   ],
   "source": [
    "mylist=[4,3,2,1]\n",
    "delme(mylist)\n",
    "print(\"be carefull! values outside the fuction willnot change:\", mylist)"
   ]
  },
  {
   "cell_type": "markdown",
   "id": "8ed68a5c",
   "metadata": {},
   "source": [
    "## variable-length argument"
   ]
  },
  {
   "cell_type": "markdown",
   "id": "5b44bcd9",
   "metadata": {},
   "source": [
    "## return statement"
   ]
  },
  {
   "cell_type": "code",
   "execution_count": 44,
   "id": "ade6eaf4",
   "metadata": {},
   "outputs": [],
   "source": [
    "def sum(arg1, arg2):\n",
    "    total=arg1+arg2\n",
    "    total2=total+arg1\n",
    "    print(\"Inside the function: \", total)\n",
    "    return total2"
   ]
  },
  {
   "cell_type": "code",
   "execution_count": 45,
   "id": "f07db805",
   "metadata": {},
   "outputs": [
    {
     "name": "stdout",
     "output_type": "stream",
     "text": [
      "Inside the function:  30\n"
     ]
    },
    {
     "data": {
      "text/plain": [
       "40"
      ]
     },
     "execution_count": 45,
     "metadata": {},
     "output_type": "execute_result"
    }
   ],
   "source": [
    "sum(10,20)"
   ]
  },
  {
   "cell_type": "markdown",
   "id": "817714a9",
   "metadata": {},
   "source": [
    "## scope of variables"
   ]
  },
  {
   "cell_type": "code",
   "execution_count": 47,
   "id": "87e0e136",
   "metadata": {},
   "outputs": [
    {
     "name": "stdout",
     "output_type": "stream",
     "text": [
      "local variable:  12\n",
      "Global variable:  0\n"
     ]
    }
   ],
   "source": [
    "total =0 #global variables\n",
    "\n",
    "def sum(arg1,arg2):\n",
    "    total=arg1+arg2 #local variables\n",
    "    print(\"local variable: \", total)\n",
    "    return total\n",
    "\n",
    "sum(5,7)\n",
    "print(\"Global variable: \", total)"
   ]
  },
  {
   "cell_type": "code",
   "execution_count": 50,
   "id": "9fa1e179",
   "metadata": {},
   "outputs": [],
   "source": [
    "import Mod"
   ]
  },
  {
   "cell_type": "markdown",
   "id": "69e53371",
   "metadata": {},
   "source": [
    "print(Mod.s)"
   ]
  },
  {
   "cell_type": "code",
   "execution_count": 51,
   "id": "1725c531",
   "metadata": {},
   "outputs": [
    {
     "ename": "AttributeError",
     "evalue": "module 'Mod' has no attribute 's'",
     "output_type": "error",
     "traceback": [
      "\u001b[1;31m---------------------------------------------------------------------------\u001b[0m",
      "\u001b[1;31mAttributeError\u001b[0m                            Traceback (most recent call last)",
      "\u001b[1;32m<ipython-input-51-46f72c7ead9f>\u001b[0m in \u001b[0;36m<module>\u001b[1;34m\u001b[0m\n\u001b[1;32m----> 1\u001b[1;33m \u001b[0mprint\u001b[0m\u001b[1;33m(\u001b[0m\u001b[0mMod\u001b[0m\u001b[1;33m.\u001b[0m\u001b[0ms\u001b[0m\u001b[1;33m)\u001b[0m\u001b[1;33m\u001b[0m\u001b[1;33m\u001b[0m\u001b[0m\n\u001b[0m",
      "\u001b[1;31mAttributeError\u001b[0m: module 'Mod' has no attribute 's'"
     ]
    }
   ],
   "source": [
    "print(Mod.s)"
   ]
  },
  {
   "cell_type": "markdown",
   "id": "14b33356",
   "metadata": {},
   "source": [
    "error. call from cmd"
   ]
  },
  {
   "cell_type": "markdown",
   "id": "d1be9251",
   "metadata": {},
   "source": [
    "Mod"
   ]
  },
  {
   "cell_type": "code",
   "execution_count": 52,
   "id": "52e1843f",
   "metadata": {},
   "outputs": [
    {
     "data": {
      "text/plain": [
       "<module 'Mod' from 'C:\\\\Users\\\\3330218\\\\Untitled Folder 1\\\\Mod.py'>"
      ]
     },
     "execution_count": 52,
     "metadata": {},
     "output_type": "execute_result"
    }
   ],
   "source": [
    "Mod"
   ]
  },
  {
   "cell_type": "code",
   "execution_count": 56,
   "id": "ca604700",
   "metadata": {},
   "outputs": [],
   "source": [
    "from Mod import *"
   ]
  },
  {
   "cell_type": "code",
   "execution_count": 58,
   "id": "97133a24",
   "metadata": {},
   "outputs": [
    {
     "ename": "NameError",
     "evalue": "name 's' is not defined",
     "output_type": "error",
     "traceback": [
      "\u001b[1;31m---------------------------------------------------------------------------\u001b[0m",
      "\u001b[1;31mNameError\u001b[0m                                 Traceback (most recent call last)",
      "\u001b[1;32m<ipython-input-58-ded5ba42480f>\u001b[0m in \u001b[0;36m<module>\u001b[1;34m\u001b[0m\n\u001b[1;32m----> 1\u001b[1;33m \u001b[0ms\u001b[0m\u001b[1;33m\u001b[0m\u001b[1;33m\u001b[0m\u001b[0m\n\u001b[0m",
      "\u001b[1;31mNameError\u001b[0m: name 's' is not defined"
     ]
    }
   ],
   "source": [
    "s"
   ]
  },
  {
   "cell_type": "code",
   "execution_count": 59,
   "id": "6b145580",
   "metadata": {},
   "outputs": [
    {
     "name": "stdout",
     "output_type": "stream",
     "text": [
      "Module not found\n"
     ]
    }
   ],
   "source": [
    "try:\n",
    "    import baz\n",
    "except ImportError:\n",
    "    print(\"Module not found\")"
   ]
  },
  {
   "cell_type": "markdown",
   "id": "4dc4f261",
   "metadata": {},
   "source": [
    "## The Dir Function"
   ]
  },
  {
   "cell_type": "code",
   "execution_count": 60,
   "id": "90f9bc61",
   "metadata": {},
   "outputs": [
    {
     "data": {
      "text/plain": [
       "['In',\n",
       " 'Mod',\n",
       " 'Out',\n",
       " '_',\n",
       " '_45',\n",
       " '_52',\n",
       " '__',\n",
       " '___',\n",
       " '__builtin__',\n",
       " '__builtins__',\n",
       " '__doc__',\n",
       " '__loader__',\n",
       " '__name__',\n",
       " '__package__',\n",
       " '__spec__',\n",
       " '_dh',\n",
       " '_i',\n",
       " '_i1',\n",
       " '_i10',\n",
       " '_i11',\n",
       " '_i12',\n",
       " '_i13',\n",
       " '_i14',\n",
       " '_i15',\n",
       " '_i16',\n",
       " '_i17',\n",
       " '_i18',\n",
       " '_i19',\n",
       " '_i2',\n",
       " '_i20',\n",
       " '_i21',\n",
       " '_i22',\n",
       " '_i23',\n",
       " '_i24',\n",
       " '_i25',\n",
       " '_i26',\n",
       " '_i27',\n",
       " '_i28',\n",
       " '_i29',\n",
       " '_i3',\n",
       " '_i30',\n",
       " '_i31',\n",
       " '_i32',\n",
       " '_i33',\n",
       " '_i34',\n",
       " '_i35',\n",
       " '_i36',\n",
       " '_i37',\n",
       " '_i38',\n",
       " '_i39',\n",
       " '_i4',\n",
       " '_i40',\n",
       " '_i41',\n",
       " '_i42',\n",
       " '_i43',\n",
       " '_i44',\n",
       " '_i45',\n",
       " '_i46',\n",
       " '_i47',\n",
       " '_i48',\n",
       " '_i49',\n",
       " '_i5',\n",
       " '_i50',\n",
       " '_i51',\n",
       " '_i52',\n",
       " '_i53',\n",
       " '_i54',\n",
       " '_i55',\n",
       " '_i56',\n",
       " '_i57',\n",
       " '_i58',\n",
       " '_i59',\n",
       " '_i6',\n",
       " '_i60',\n",
       " '_i7',\n",
       " '_i8',\n",
       " '_i9',\n",
       " '_ih',\n",
       " '_ii',\n",
       " '_iii',\n",
       " '_oh',\n",
       " 'appendme',\n",
       " 'changeme',\n",
       " 'deleteme',\n",
       " 'delme',\n",
       " 'exit',\n",
       " 'extendme',\n",
       " 'get_ipython',\n",
       " 'ini_fungsi',\n",
       " 'mylist',\n",
       " 'quit',\n",
       " 'say_hello',\n",
       " 'sum',\n",
       " 'total']"
      ]
     },
     "execution_count": 60,
     "metadata": {},
     "output_type": "execute_result"
    }
   ],
   "source": [
    "dir()"
   ]
  },
  {
   "cell_type": "code",
   "execution_count": 61,
   "id": "e24475e0",
   "metadata": {},
   "outputs": [],
   "source": [
    "qux=[1,2,3,4,5]"
   ]
  },
  {
   "cell_type": "code",
   "execution_count": 62,
   "id": "16abe18c",
   "metadata": {},
   "outputs": [
    {
     "data": {
      "text/plain": [
       "<function dir>"
      ]
     },
     "execution_count": 62,
     "metadata": {},
     "output_type": "execute_result"
    }
   ],
   "source": [
    "dir"
   ]
  },
  {
   "cell_type": "code",
   "execution_count": 63,
   "id": "9a96434c",
   "metadata": {},
   "outputs": [
    {
     "data": {
      "text/plain": [
       "['In',\n",
       " 'Mod',\n",
       " 'Out',\n",
       " '_',\n",
       " '_45',\n",
       " '_52',\n",
       " '_60',\n",
       " '_62',\n",
       " '__',\n",
       " '___',\n",
       " '__builtin__',\n",
       " '__builtins__',\n",
       " '__doc__',\n",
       " '__loader__',\n",
       " '__name__',\n",
       " '__package__',\n",
       " '__spec__',\n",
       " '_dh',\n",
       " '_i',\n",
       " '_i1',\n",
       " '_i10',\n",
       " '_i11',\n",
       " '_i12',\n",
       " '_i13',\n",
       " '_i14',\n",
       " '_i15',\n",
       " '_i16',\n",
       " '_i17',\n",
       " '_i18',\n",
       " '_i19',\n",
       " '_i2',\n",
       " '_i20',\n",
       " '_i21',\n",
       " '_i22',\n",
       " '_i23',\n",
       " '_i24',\n",
       " '_i25',\n",
       " '_i26',\n",
       " '_i27',\n",
       " '_i28',\n",
       " '_i29',\n",
       " '_i3',\n",
       " '_i30',\n",
       " '_i31',\n",
       " '_i32',\n",
       " '_i33',\n",
       " '_i34',\n",
       " '_i35',\n",
       " '_i36',\n",
       " '_i37',\n",
       " '_i38',\n",
       " '_i39',\n",
       " '_i4',\n",
       " '_i40',\n",
       " '_i41',\n",
       " '_i42',\n",
       " '_i43',\n",
       " '_i44',\n",
       " '_i45',\n",
       " '_i46',\n",
       " '_i47',\n",
       " '_i48',\n",
       " '_i49',\n",
       " '_i5',\n",
       " '_i50',\n",
       " '_i51',\n",
       " '_i52',\n",
       " '_i53',\n",
       " '_i54',\n",
       " '_i55',\n",
       " '_i56',\n",
       " '_i57',\n",
       " '_i58',\n",
       " '_i59',\n",
       " '_i6',\n",
       " '_i60',\n",
       " '_i61',\n",
       " '_i62',\n",
       " '_i63',\n",
       " '_i7',\n",
       " '_i8',\n",
       " '_i9',\n",
       " '_ih',\n",
       " '_ii',\n",
       " '_iii',\n",
       " '_oh',\n",
       " 'appendme',\n",
       " 'changeme',\n",
       " 'deleteme',\n",
       " 'delme',\n",
       " 'exit',\n",
       " 'extendme',\n",
       " 'get_ipython',\n",
       " 'ini_fungsi',\n",
       " 'mylist',\n",
       " 'quit',\n",
       " 'qux',\n",
       " 'say_hello',\n",
       " 'sum',\n",
       " 'total']"
      ]
     },
     "execution_count": 63,
     "metadata": {},
     "output_type": "execute_result"
    }
   ],
   "source": [
    "dir()"
   ]
  },
  {
   "cell_type": "code",
   "execution_count": 64,
   "id": "d287c093",
   "metadata": {},
   "outputs": [],
   "source": [
    "import Mod"
   ]
  },
  {
   "cell_type": "code",
   "execution_count": 65,
   "id": "8e16f8ac",
   "metadata": {},
   "outputs": [
    {
     "data": {
      "text/plain": [
       "['__builtins__',\n",
       " '__cached__',\n",
       " '__doc__',\n",
       " '__file__',\n",
       " '__loader__',\n",
       " '__name__',\n",
       " '__package__',\n",
       " '__spec__']"
      ]
     },
     "execution_count": 65,
     "metadata": {},
     "output_type": "execute_result"
    }
   ],
   "source": [
    "dir(Mod)"
   ]
  },
  {
   "cell_type": "code",
   "execution_count": null,
   "id": "19a848e7",
   "metadata": {},
   "outputs": [],
   "source": []
  }
 ],
 "metadata": {
  "kernelspec": {
   "display_name": "Python 3",
   "language": "python",
   "name": "python3"
  },
  "language_info": {
   "codemirror_mode": {
    "name": "ipython",
    "version": 3
   },
   "file_extension": ".py",
   "mimetype": "text/x-python",
   "name": "python",
   "nbconvert_exporter": "python",
   "pygments_lexer": "ipython3",
   "version": "3.8.8"
  }
 },
 "nbformat": 4,
 "nbformat_minor": 5
}
